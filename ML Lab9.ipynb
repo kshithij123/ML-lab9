{
 "cells": [
  {
   "cell_type": "code",
   "execution_count": 3,
   "metadata": {},
   "outputs": [],
   "source": [
    "from sklearn.neighbors import KNeighborsClassifier\n",
    "from sklearn.metrics import confusion_matrix,accuracy_score,classification_report\n",
    "from sklearn.model_selection import train_test_split\n",
    "import pandas as pd\n",
    "from sklearn import datasets"
   ]
  },
  {
   "cell_type": "code",
   "execution_count": 4,
   "metadata": {},
   "outputs": [
    {
     "name": "stdout",
     "output_type": "stream",
     "text": [
      "iris data set is loaded\n"
     ]
    }
   ],
   "source": [
    "iris = datasets.load_iris()\n",
    "print(\"iris data set is loaded\")"
   ]
  },
  {
   "cell_type": "code",
   "execution_count": 5,
   "metadata": {},
   "outputs": [
    {
     "name": "stdout",
     "output_type": "stream",
     "text": [
      "Dataset is spit int training andtesting\n",
      "size of training data and its label (135, 4) (135,)\n",
      "size of testing data and its label (15, 4) (15,)\n"
     ]
    }
   ],
   "source": [
    "x_train,x_test,y_train,y_test = train_test_split(iris.data,iris.target,test_size = 0.1)\n",
    "print(\"Dataset is spit int training andtesting\")\n",
    "print(\"size of training data and its label\",x_train.shape,y_train.shape)\n",
    "print(\"size of testing data and its label\",x_test.shape,y_test.shape)\n"
   ]
  },
  {
   "cell_type": "code",
   "execution_count": 6,
   "metadata": {},
   "outputs": [
    {
     "name": "stdout",
     "output_type": "stream",
     "text": [
      "Label 0 - setosa\n",
      "Label 1 - versicolor\n",
      "Label 2 - virginica\n"
     ]
    }
   ],
   "source": [
    "for i in range(len(iris.target_names)):\n",
    "    print(\"Label\",i,\"-\",str(iris.target_names[i]))"
   ]
  },
  {
   "cell_type": "code",
   "execution_count": 7,
   "metadata": {},
   "outputs": [],
   "source": [
    "classifier = KNeighborsClassifier(n_neighbors=1)"
   ]
  },
  {
   "cell_type": "code",
   "execution_count": 8,
   "metadata": {},
   "outputs": [],
   "source": [
    "classifier.fit(x_train,y_train)\n",
    "y_pred = classifier.predict(x_test)"
   ]
  },
  {
   "cell_type": "code",
   "execution_count": 9,
   "metadata": {},
   "outputs": [
    {
     "name": "stdout",
     "output_type": "stream",
     "text": [
      "Results of classification using K-nn with K=1\n",
      "Sample: [5.5 2.4 3.8 1.1] Actual-label 1 Predicted label 1\n",
      "Sample: [5.1 3.4 1.5 0.2] Actual-label 0 Predicted label 0\n",
      "Sample: [7.2 3.6 6.1 2.5] Actual-label 2 Predicted label 2\n",
      "Sample: [5.4 3.9 1.3 0.4] Actual-label 0 Predicted label 0\n",
      "Sample: [5.7 2.5 5.  2. ] Actual-label 2 Predicted label 2\n",
      "Sample: [6.5 2.8 4.6 1.5] Actual-label 1 Predicted label 1\n",
      "Sample: [7.2 3.  5.8 1.6] Actual-label 2 Predicted label 2\n",
      "Sample: [6.7 3.  5.2 2.3] Actual-label 2 Predicted label 2\n",
      "Sample: [5.  3.4 1.5 0.2] Actual-label 0 Predicted label 0\n",
      "Sample: [5.1 2.5 3.  1.1] Actual-label 1 Predicted label 1\n",
      "Sample: [5.9 3.  4.2 1.5] Actual-label 1 Predicted label 1\n",
      "Sample: [6.1 2.6 5.6 1.4] Actual-label 2 Predicted label 2\n",
      "Sample: [5.7 2.9 4.2 1.3] Actual-label 1 Predicted label 1\n",
      "Sample: [6.1 3.  4.6 1.4] Actual-label 1 Predicted label 1\n",
      "Sample: [5.1 3.5 1.4 0.3] Actual-label 0 Predicted label 0\n"
     ]
    }
   ],
   "source": [
    "print(\"Results of classification using K-nn with K=1\")\n",
    "for r in range(0,len(x_test)):\n",
    "    print(\"Sample:\",str(x_test[r]),\"Actual-label\",str(y_test[r]),\"Predicted label\",str(y_pred[r]))"
   ]
  },
  {
   "cell_type": "code",
   "execution_count": 10,
   "metadata": {},
   "outputs": [
    {
     "name": "stdout",
     "output_type": "stream",
     "text": [
      "Classification Accuracy 1.0\n"
     ]
    }
   ],
   "source": [
    "print(\"Classification Accuracy\",classifier.score(x_test,y_test))"
   ]
  },
  {
   "cell_type": "code",
   "execution_count": 11,
   "metadata": {},
   "outputs": [
    {
     "name": "stdout",
     "output_type": "stream",
     "text": [
      "confusion matrix\n",
      "[[4 0 0]\n",
      " [0 6 0]\n",
      " [0 0 5]]\n"
     ]
    }
   ],
   "source": [
    "print(\"confusion matrix\")\n",
    "print(confusion_matrix(y_test,y_pred))"
   ]
  },
  {
   "cell_type": "code",
   "execution_count": 12,
   "metadata": {},
   "outputs": [
    {
     "name": "stdout",
     "output_type": "stream",
     "text": [
      "Accuracy Metrics\n",
      "              precision    recall  f1-score   support\n",
      "\n",
      "           0       1.00      1.00      1.00         4\n",
      "           1       1.00      1.00      1.00         6\n",
      "           2       1.00      1.00      1.00         5\n",
      "\n",
      "   micro avg       1.00      1.00      1.00        15\n",
      "   macro avg       1.00      1.00      1.00        15\n",
      "weighted avg       1.00      1.00      1.00        15\n",
      "\n"
     ]
    }
   ],
   "source": [
    "print(\"Accuracy Metrics\")\n",
    "print(classification_report(y_test,y_pred))"
   ]
  },
  {
   "cell_type": "code",
   "execution_count": null,
   "metadata": {},
   "outputs": [],
   "source": []
  }
 ],
 "metadata": {
  "kernelspec": {
   "display_name": "Python 3",
   "language": "python",
   "name": "python3"
  },
  "language_info": {
   "codemirror_mode": {
    "name": "ipython",
    "version": 3
   },
   "file_extension": ".py",
   "mimetype": "text/x-python",
   "name": "python",
   "nbconvert_exporter": "python",
   "pygments_lexer": "ipython3",
   "version": "3.7.3"
  }
 },
 "nbformat": 4,
 "nbformat_minor": 2
}
